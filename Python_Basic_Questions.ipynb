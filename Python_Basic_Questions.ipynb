{
  "nbformat": 4,
  "nbformat_minor": 0,
  "metadata": {
    "colab": {
      "provenance": []
    },
    "kernelspec": {
      "name": "python3",
      "display_name": "Python 3"
    },
    "language_info": {
      "name": "python"
    }
  },
  "cells": [
    {
      "cell_type": "code",
      "execution_count": 4,
      "metadata": {
        "id": "AuFsdVCDFhno"
      },
      "outputs": [],
      "source": []
    },
    {
      "cell_type": "markdown",
      "source": [
        "Theory Questions"
      ],
      "metadata": {
        "id": "4Wb2G4niF8P2"
      }
    },
    {
      "cell_type": "markdown",
      "source": [
        "1. What is Python, and why is it popular\n",
        "-Python is a high-level, interpreted programming language known for its simplicity and readability.\n",
        "Popularity reasons:\n",
        "\n",
        "Easy to learn and write\n",
        "\n",
        "Large standard library\n",
        "\n",
        "Strong community support\n",
        "\n"
      ],
      "metadata": {
        "id": "fN5u-OqzQztk"
      }
    },
    {
      "cell_type": "markdown",
      "source": [
        "2. What is an interpreter in Python\n",
        "- An interpreter reads and executes Python code line by line. It translates high-level Python code into machine-level instructions at runtime.\n"
      ],
      "metadata": {
        "id": "npb98vKYQ-ib"
      }
    },
    {
      "cell_type": "markdown",
      "source": [
        "3. What are pre-defined keywords in Python\n",
        "-Pre-defined keywords are reserved words in Python that have special meaning.\n",
        "Examples: if, for, while, class, def, return, True, False, None, etc.\n",
        "\n",
        "\n"
      ],
      "metadata": {
        "id": "VazhRzw7REbJ"
      }
    },
    {
      "cell_type": "markdown",
      "source": [
        "4. Can keywords be used as variable names\n",
        "-No, keywords cannot be used as variable names because they are reserved by Python for specific functions.\n"
      ],
      "metadata": {
        "id": "OcQbljiHRKFl"
      }
    },
    {
      "cell_type": "markdown",
      "source": [
        "5. Why are lists mutable, but tuples are immutable\n",
        "-Because lists are designed to store dynamic data (can grow/shrink/change), while tuples are used to store fixed, constant data for faster performance and data safety.\n",
        "\n"
      ],
      "metadata": {
        "id": "3nZBZoaCRUx5"
      }
    },
    {
      "cell_type": "markdown",
      "source": [
        "6. What is the difference between “==” and “is” operators in Python\n",
        "-\"==\" checks value equality (are values the same?)\n",
        "\n",
        "\"is\" checks identity (are they the same object in memory?)\n",
        "\n",
        "\n",
        "Example:\n",
        "\n",
        "a = [1, 2]  \n",
        "b = [1, 2]  \n",
        "a == b  # True  \n",
        "a is b  # False\n",
        "\n",
        "\n"
      ],
      "metadata": {
        "id": "Ph3fm4OSRjcI"
      }
    },
    {
      "cell_type": "markdown",
      "source": [
        "7. What are logical operators in Python\n",
        "-Logical operators combine conditional statements:\n",
        "\n",
        "and\n",
        "\n",
        "or\n",
        "\n",
        "not\n",
        "\n",
        "\n",
        "Example:\n",
        "\n",
        "x = 5  \n",
        "x > 3 and x < 10  # True\n"
      ],
      "metadata": {
        "id": "pXrt68JzRlse"
      }
    },
    {
      "cell_type": "markdown",
      "source": [
        "8. What is mutability in Python\n",
        "-Mutability refers to whether an object’s state (data) can be changed after it is created.\n",
        "\n",
        "Mutable: Lists, Dictionaries, Sets\n",
        "\n",
        "Immutable: Tuples, Strings, Integers\n"
      ],
      "metadata": {
        "id": "95f9q3qTROSE"
      }
    },
    {
      "cell_type": "markdown",
      "source": [
        "9. What is type casting in Python\n",
        "-Type casting means converting a variable from one data type to another.\n",
        "Examples:\n",
        "\n",
        "int(\"10\") → 10\n",
        "\n",
        "str(5) → \"5\"\n",
        "\n",
        "float(\"3.14\") → 3.14\n",
        "\n",
        "\n",
        "\n"
      ],
      "metadata": {
        "id": "s7dAK6d4Ryt2"
      }
    },
    {
      "cell_type": "markdown",
      "source": [
        "10. What is the difference between implicit and explicit type casting\n",
        "-Implicit: Automatically done by Python\n",
        "Example: 3 + 4.5 → 7.5 (int is converted to float)\n",
        "\n",
        "Explicit: Manually done by the programmer using functions like int(), str(), etc.\n",
        "\n"
      ],
      "metadata": {
        "id": "KRV49YBbR25i"
      }
    },
    {
      "cell_type": "markdown",
      "source": [
        "11. What is the purpose of conditional statements in Python\n",
        "-Conditional statements (if, elif, else) allow decision-making in a program by executing different code blocks based on conditions.\n"
      ],
      "metadata": {
        "id": "7pP3GPJsR9I5"
      }
    },
    {
      "cell_type": "code",
      "source": [],
      "metadata": {
        "id": "PCaILCyQVSYI"
      },
      "execution_count": 7,
      "outputs": []
    },
    {
      "cell_type": "markdown",
      "source": [
        "12. How does the elif statement work\n",
        "-elif (short for \"else if\") checks another condition if the previous if condition was false.\n",
        "Example:\n",
        "\n",
        "x = 10  \n",
        "if x < 5:  \n",
        "    print(\"Less\")  \n",
        "elif x == 10:  \n",
        "    print(\"Equal\")  \n",
        "else:  \n",
        "    print(\"More\")\n",
        "\n",
        "\n"
      ],
      "metadata": {
        "id": "TFQ6iBVQSHJZ"
      }
    },
    {
      "cell_type": "markdown",
      "source": [
        "13. What is the difference between for and while loops\n",
        "-for loop: Used when you know how many times to loop (iterates over a sequence).\n",
        "\n",
        "while loop: Used when the number of iterations is unknown and depends on a condition.\n",
        "\n",
        "\n"
      ],
      "metadata": {
        "id": "RvTQZee9SToQ"
      }
    },
    {
      "cell_type": "markdown",
      "source": [
        "14. Describe a scenario where a while loop is more suitable than a for loop\n",
        "-Scenario: Reading user input until they enter a specific word.\n",
        "\n",
        "user_input = \"\"  \n",
        "while user_input != \"exit\":  \n",
        "    user_input = input(\"Type 'exit' to quit: \")\n"
      ],
      "metadata": {
        "id": "L-rQIAT7Sg0j"
      }
    },
    {
      "cell_type": "markdown",
      "source": [
        "Practical questions"
      ],
      "metadata": {
        "id": "zI-3_XuVYMMV"
      }
    },
    {
      "cell_type": "code",
      "source": [
        "#1. Write a Python program to print \"Hello, World!\n",
        "print(\"Hello,World\")"
      ],
      "metadata": {
        "colab": {
          "base_uri": "https://localhost:8080/"
        },
        "id": "aQC8iBa4aBh0",
        "outputId": "94bf0fca-d98d-4a2e-ac8c-b56129359177"
      },
      "execution_count": 5,
      "outputs": [
        {
          "output_type": "stream",
          "name": "stdout",
          "text": [
            "Hello,World\n"
          ]
        }
      ]
    },
    {
      "cell_type": "code",
      "source": [
        "#2. Write a Python program that displays your name and age\n",
        "name = \"Parantap\"\n",
        "age = 20\n",
        "print(\"Name:\", name)\n",
        "print(\"Age:\", age)\n"
      ],
      "metadata": {
        "colab": {
          "base_uri": "https://localhost:8080/"
        },
        "id": "PxENOoZ2adcM",
        "outputId": "d5d80bd9-3e23-481a-c773-803e93df163f"
      },
      "execution_count": 8,
      "outputs": [
        {
          "output_type": "stream",
          "name": "stdout",
          "text": [
            "Name: Parantap\n",
            "Age: 20\n"
          ]
        }
      ]
    },
    {
      "cell_type": "code",
      "source": [
        "#3. Write code to print all the pre-defined keywords in Python using the keyword library\n",
        "import keyword\n",
        "print(\"Python keywords are:\")\n",
        "print(keyword.kwlist)\n"
      ],
      "metadata": {
        "id": "tNF_2USkamVb",
        "colab": {
          "base_uri": "https://localhost:8080/"
        },
        "outputId": "0e317389-b56c-4d8b-fb33-d235517e523f"
      },
      "execution_count": 6,
      "outputs": [
        {
          "output_type": "stream",
          "name": "stdout",
          "text": [
            "Python keywords are:\n",
            "['False', 'None', 'True', 'and', 'as', 'assert', 'async', 'await', 'break', 'class', 'continue', 'def', 'del', 'elif', 'else', 'except', 'finally', 'for', 'from', 'global', 'if', 'import', 'in', 'is', 'lambda', 'nonlocal', 'not', 'or', 'pass', 'raise', 'return', 'try', 'while', 'with', 'yield']\n"
          ]
        }
      ]
    },
    {
      "cell_type": "code",
      "source": [
        "#4. Write a program that checks if a given word is a Python keyword.\n",
        "import keyword\n",
        "word = input(\"Enter a word: \")\n",
        "if keyword.iskeyword(word):\n",
        "    print(f\"{word} is a Python keyword.\")\n",
        "else:\n",
        "    print(f\"{word} is not a Python keyword.\")\n"
      ],
      "metadata": {
        "id": "tmH1cmiEawTG",
        "colab": {
          "base_uri": "https://localhost:8080/"
        },
        "outputId": "56dfc282-61a1-4844-ac39-fe3123aeae67"
      },
      "execution_count": 7,
      "outputs": [
        {
          "output_type": "stream",
          "name": "stdout",
          "text": [
            "Enter a word: parantap\n",
            "parantap is not a Python keyword.\n"
          ]
        }
      ]
    },
    {
      "cell_type": "code",
      "source": [
        "#5. Create a list and tuple in Python, and demonstrate how attempting to change an element works differently for each\n",
        "my_list = [1, 2, 3]\n",
        "my_tuple = (1, 2, 3)\n",
        "\n",
        "my_list[0] = 10\n",
        "print(\"Modified list:\", my_list)\n",
        "\n",
        "# This will raise an error\n",
        "try:\n",
        "    my_tuple[0] = 10\n",
        "except TypeError as e:\n",
        "    print(\"Error with tuple:\", e)\n"
      ],
      "metadata": {
        "id": "byMPtiTTa8ei",
        "colab": {
          "base_uri": "https://localhost:8080/"
        },
        "outputId": "2ca1d7a8-6d26-490f-a1e1-a096b03e2a52"
      },
      "execution_count": 9,
      "outputs": [
        {
          "output_type": "stream",
          "name": "stdout",
          "text": [
            "Modified list: [10, 2, 3]\n",
            "Error with tuple: 'tuple' object does not support item assignment\n"
          ]
        }
      ]
    },
    {
      "cell_type": "code",
      "source": [
        "#6. Write a function to demonstrate the behavior of mutable and immutable arguments\n",
        "def modify_list(lst):\n",
        "    lst.append(4)\n",
        "\n",
        "def modify_int(x):\n",
        "    x += 1\n",
        "    return x\n",
        "\n",
        "l = [1, 2, 3]\n",
        "n = 10\n",
        "modify_list(l)\n",
        "n = modify_int(n)\n",
        "\n",
        "print(\"Modified list:\", l)  # Mutable\n",
        "print(\"Modified int:\", n)   # Immutable\n"
      ],
      "metadata": {
        "id": "R7YgFrWlbKNg",
        "colab": {
          "base_uri": "https://localhost:8080/"
        },
        "outputId": "dc161106-1cf9-45b7-d5ba-9cfcf26ac8f7"
      },
      "execution_count": 10,
      "outputs": [
        {
          "output_type": "stream",
          "name": "stdout",
          "text": [
            "Modified list: [1, 2, 3, 4]\n",
            "Modified int: 11\n"
          ]
        }
      ]
    },
    {
      "cell_type": "code",
      "source": [
        "#7. Write a program that performs basic arithmetic operations on two user-input numbers.\n",
        "a = float(input(\"Enter first number: \"))\n",
        "b = float(input(\"Enter second number: \"))\n",
        "\n",
        "print(\"Sum:\", a + b)\n",
        "print(\"Difference:\", a - b)\n",
        "print(\"Product:\", a * b)\n",
        "print(\"Quotient:\", a / b if b != 0 else \"Cannot divide by zero\")\n"
      ],
      "metadata": {
        "id": "P6simhtWbQ7f",
        "colab": {
          "base_uri": "https://localhost:8080/"
        },
        "outputId": "5fd7f811-ef8f-45ea-f5f4-7adde40edba3"
      },
      "execution_count": 11,
      "outputs": [
        {
          "output_type": "stream",
          "name": "stdout",
          "text": [
            "Enter first number: 8\n",
            "Enter second number: 9\n",
            "Sum: 17.0\n",
            "Difference: -1.0\n",
            "Product: 72.0\n",
            "Quotient: 0.8888888888888888\n"
          ]
        }
      ]
    },
    {
      "cell_type": "code",
      "source": [
        "#8. Write a program to demonstrate the use of logical operators.\n",
        "a = True\n",
        "b = False\n",
        "\n",
        "print(\"a and b:\", a and b)\n",
        "print(\"a or b:\", a or b)\n",
        "print(\"not a:\", not a)\n"
      ],
      "metadata": {
        "id": "dDeHVARmbXRs",
        "colab": {
          "base_uri": "https://localhost:8080/"
        },
        "outputId": "6160a834-fc67-4d64-ea18-579b9c7ff532"
      },
      "execution_count": 12,
      "outputs": [
        {
          "output_type": "stream",
          "name": "stdout",
          "text": [
            "a and b: False\n",
            "a or b: True\n",
            "not a: False\n"
          ]
        }
      ]
    },
    {
      "cell_type": "code",
      "source": [
        "#9. Write a Python program to convert user input from string to integer, float, and boolean types.\n",
        "s = input(\"Enter a number: \")\n",
        "print(\"As integer:\", int(s))\n",
        "print(\"As float:\", float(s))\n",
        "print(\"As boolean:\", bool(int(s)))\n"
      ],
      "metadata": {
        "id": "m7jedQUkbfF_",
        "colab": {
          "base_uri": "https://localhost:8080/"
        },
        "outputId": "067f6732-2473-4b04-a2fd-e52bf8ace5ce"
      },
      "execution_count": 4,
      "outputs": [
        {
          "output_type": "stream",
          "name": "stdout",
          "text": [
            "Enter a number: 14\n",
            "As integer: 14\n",
            "As float: 14.0\n",
            "As boolean: True\n"
          ]
        }
      ]
    },
    {
      "cell_type": "code",
      "source": [
        "#10. Write code to demonstrate type casting with list elements\n",
        "str_list = [\"1\", \"2\", \"3\"]\n",
        "int_list = [int(x) for x in str_list]\n",
        "print(\"Converted list:\", int_list)\n"
      ],
      "metadata": {
        "colab": {
          "base_uri": "https://localhost:8080/"
        },
        "id": "UEeA1j8ubkVY",
        "outputId": "695681e3-4f50-4d7e-ac4a-3a0e9df81aff"
      },
      "execution_count": 13,
      "outputs": [
        {
          "output_type": "stream",
          "name": "stdout",
          "text": [
            "Converted list: [1, 2, 3]\n"
          ]
        }
      ]
    },
    {
      "cell_type": "code",
      "source": [
        "#11. Write a program that checks if a number is positive, negative, or zero.\n",
        "num = float(input(\"Enter a number: \"))\n",
        "if num > 0:\n",
        "    print(\"Positive\")\n",
        "elif num < 0:\n",
        "    print(\"Negative\")\n",
        "else:\n",
        "    print(\"Zero\")\n",
        "\n",
        "\n"
      ],
      "metadata": {
        "id": "8NgqasY3brAY",
        "colab": {
          "base_uri": "https://localhost:8080/"
        },
        "outputId": "eaffab21-a356-4d1f-da1b-14ec44275158"
      },
      "execution_count": 14,
      "outputs": [
        {
          "output_type": "stream",
          "name": "stdout",
          "text": [
            "Enter a number: 80\n",
            "Positive\n"
          ]
        }
      ]
    },
    {
      "cell_type": "code",
      "source": [
        "#12. Write a for loop to print numbers from 1 to 10.\n",
        "for i in range(1, 11):\n",
        "    print(i)\n"
      ],
      "metadata": {
        "id": "2k8Fk2EgcBaS",
        "colab": {
          "base_uri": "https://localhost:8080/"
        },
        "outputId": "f95981e3-6a30-4179-9079-ca191f84b591"
      },
      "execution_count": 15,
      "outputs": [
        {
          "output_type": "stream",
          "name": "stdout",
          "text": [
            "1\n",
            "2\n",
            "3\n",
            "4\n",
            "5\n",
            "6\n",
            "7\n",
            "8\n",
            "9\n",
            "10\n"
          ]
        }
      ]
    },
    {
      "cell_type": "code",
      "source": [
        "#13. Write a Python program to find the sum of all even numbers between 1 and 50\n",
        "sum_even = sum(i for i in range(1, 51) if i % 2 == 0)\n",
        "print(\"Sum of even numbers from 1 to 50:\", sum_even)\n"
      ],
      "metadata": {
        "id": "KBeCOtcacGTa",
        "colab": {
          "base_uri": "https://localhost:8080/"
        },
        "outputId": "8b351808-b1c5-44b6-bb12-5f3d7eb94036"
      },
      "execution_count": 16,
      "outputs": [
        {
          "output_type": "stream",
          "name": "stdout",
          "text": [
            "Sum of even numbers from 1 to 50: 650\n"
          ]
        }
      ]
    },
    {
      "cell_type": "code",
      "source": [
        "#14. Write a program to reverse a string using a while loop.\n",
        "s = input(\"Enter a string: \")\n",
        "reversed_s = \"\"\n",
        "i = len(s) - 1\n",
        "\n",
        "while i >= 0:\n",
        "    reversed_s += s[i]\n",
        "    i -= 1\n",
        "\n",
        "print(\"Reversed string:\", reversed_s)\n"
      ],
      "metadata": {
        "id": "sMZPIKBEcMJ3",
        "colab": {
          "base_uri": "https://localhost:8080/"
        },
        "outputId": "dac916fa-d21d-4161-e320-4158077db4a8"
      },
      "execution_count": 17,
      "outputs": [
        {
          "output_type": "stream",
          "name": "stdout",
          "text": [
            "Enter a string: parantap\n",
            "Reversed string: patnarap\n"
          ]
        }
      ]
    },
    {
      "cell_type": "code",
      "source": [
        "#15. Write a Python program to calculate the factorial of a number provided by the user using a while loop\n",
        "n = int(input(\"Enter a number: \"))\n",
        "fact = 1\n",
        "i = 1\n",
        "\n",
        "while i <= n:\n",
        "    fact *= i\n",
        "    i += 1\n",
        "\n",
        "print(\"Factorial:\", fact)\n"
      ],
      "metadata": {
        "id": "dNkT1ZZ_cSa1",
        "colab": {
          "base_uri": "https://localhost:8080/"
        },
        "outputId": "87bddad6-23ee-4285-da27-49d9b4e647be"
      },
      "execution_count": 18,
      "outputs": [
        {
          "output_type": "stream",
          "name": "stdout",
          "text": [
            "Enter a number: 56\n",
            "Factorial: 710998587804863451854045647463724949736497978881168458687447040000000000000\n"
          ]
        }
      ]
    }
  ]
}